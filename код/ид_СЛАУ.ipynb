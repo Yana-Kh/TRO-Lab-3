{
 "cells": [
  {
   "cell_type": "markdown",
   "id": "620b02d7",
   "metadata": {},
   "source": [
    "## **Задача:** \n",
    "Создать ноутбук, в котором будут приведены собственные примеры решения систем линейных уравнений матричным методом и методом Крамера."
   ]
  },
  {
   "cell_type": "markdown",
   "id": "afa14e77",
   "metadata": {},
   "source": [
    "# Матричным метод"
   ]
  },
  {
   "cell_type": "markdown",
   "id": "1623bc16",
   "metadata": {},
   "source": [
    "Пусть дана система $n$ линейных уравнений с $n$ переменными $(n \\times n)$.<br> Если основная матрица не вырождена, т.е. $\\vert A \\vert \\ne 0$, тогда для матрицы $А$ существует $А^{-1}$. Умножив матричное уравнение на $А^{-1}$ получим: $$X = А^{-1} * B$$"
   ]
  },
  {
   "cell_type": "markdown",
   "id": "ae422618",
   "metadata": {},
   "source": [
    "Создадим и заполним матрицу:"
   ]
  },
  {
   "cell_type": "code",
   "execution_count": 56,
   "id": "9668c0a4",
   "metadata": {},
   "outputs": [
    {
     "data": {
      "text/plain": [
       "array([[ 7, 14,  4,  8],\n",
       "       [ 1,  0,  5,  6],\n",
       "       [ 7,  3, 10,  5]])"
      ]
     },
     "execution_count": 56,
     "metadata": {},
     "output_type": "execute_result"
    }
   ],
   "source": [
    "import numpy as np\n",
    "slau = np.random.randint(0, 15, size = (3, 4))\n",
    "slau"
   ]
  },
  {
   "cell_type": "markdown",
   "id": "59961241",
   "metadata": {},
   "source": [
    "Решим полученную систему уравнений \n",
    "$$\n",
    "\\begin{cases}\n",
    "7x_{1} + 14x_{2} + 4x_{3} = 8 \\\\\n",
    "x_{1} + 5x_{3} = 6 \\\\\n",
    "7x_{1} + 3x_{2} + 10x_{3} = 5\n",
    "\\end{cases}\n",
    "$$"
   ]
  },
  {
   "cell_type": "markdown",
   "id": "cfb8484e",
   "metadata": {},
   "source": [
    "Приведем к матричному виду:"
   ]
  },
  {
   "cell_type": "code",
   "execution_count": 62,
   "id": "7950edc0",
   "metadata": {},
   "outputs": [
    {
     "name": "stdout",
     "output_type": "stream",
     "text": [
      "slau_a\n",
      "[[ 7 14  4]\n",
      " [ 1  0  5]\n",
      " [ 7  3 10]]\n",
      "slau_b\n",
      "[8 6 5]\n"
     ]
    }
   ],
   "source": [
    "slau_a = slau[:, 0:3]\n",
    "slau_b = slau[:, 3]\n",
    "x = np.ones((3, 1))\n",
    "\n",
    "print(\"slau_a\")\n",
    "print(slau_a)\n",
    "print(\"slau_b\")\n",
    "print(slau_b)"
   ]
  },
  {
   "cell_type": "markdown",
   "id": "68c3ad50",
   "metadata": {},
   "source": [
    "$$\n",
    "\\bar{A} = \n",
    "\\left\\lgroup\\begin{matrix}\n",
    "7 & 14 & 4 & \\vert & 8 \\cr\n",
    "1 & 0 & 5 & \\vert & 6 \\cr\n",
    "7 & 3 & 10 & \\vert & 5\n",
    "\\end{matrix}\\right\\rgroup\n",
    "$$"
   ]
  },
  {
   "cell_type": "markdown",
   "id": "aa810bd1",
   "metadata": {},
   "source": [
    "Найдем определитель $\\vert A \\vert$, обратную матрицу $А^{-1} = E / A$ и присоединенную $A^*$.Также найдем решения СЛАУ"
   ]
  },
  {
   "cell_type": "code",
   "execution_count": 63,
   "id": "5e98afac",
   "metadata": {},
   "outputs": [
    {
     "name": "stdout",
     "output_type": "stream",
     "text": [
      "Решения:\n",
      "[-2.09338521  1.15564202  1.61867704]\n"
     ]
    }
   ],
   "source": [
    "#Найдем определитель\n",
    "A_det = np.linalg.det(slau_a)\n",
    "\n",
    "if A_det != 0:\n",
    "    #Найдем обратную и присоединенную матрицу\n",
    "    A_inv = np.linalg.inv(slau_a)\n",
    "    x = A_inv.dot(slau_b)\n",
    "    print(\"Решения:\")\n",
    "    print(x)\n",
    "else:\n",
    "    print(\"Матрица вырожденная, нельзя продолжить\")"
   ]
  },
  {
   "cell_type": "markdown",
   "id": "5e6ee1f8",
   "metadata": {},
   "source": [
    "# Метод Крамера"
   ]
  },
  {
   "cell_type": "markdown",
   "id": "fbe59753",
   "metadata": {},
   "source": [
    "Рассмотрим систему из $n$ уравнений с $n$ неизвестными.<br> Если $\\triangle \\ne 0$, то система имеет единственное решение, которое может быть определенне по формулам Крамера $x_1 = \\frac{\\triangle_1}{\\triangle};  x_2 = \\frac{\\triangle_2}{\\triangle}; x_3 = \\frac{\\triangle_3}{\\triangle}$ "
   ]
  },
  {
   "cell_type": "markdown",
   "id": "c2c13563",
   "metadata": {},
   "source": [
    "Создадим и заполним матрицу:"
   ]
  },
  {
   "cell_type": "code",
   "execution_count": 46,
   "id": "0e6ea59f",
   "metadata": {},
   "outputs": [],
   "source": [
    "slau = np.random.randint(0, 15, size = (3, 4))"
   ]
  },
  {
   "cell_type": "markdown",
   "id": "a5eb414d",
   "metadata": {},
   "source": [
    "Приведем к матричному виду:"
   ]
  },
  {
   "cell_type": "code",
   "execution_count": 60,
   "id": "cb568363",
   "metadata": {},
   "outputs": [
    {
     "name": "stdout",
     "output_type": "stream",
     "text": [
      "slau_a\n",
      "[[ 7 14  4]\n",
      " [ 1  0  5]\n",
      " [ 7  3 10]]\n",
      "slau_b\n",
      "[[8.]\n",
      " [6.]\n",
      " [5.]]\n"
     ]
    }
   ],
   "source": [
    "slau_a = slau[:, 0:3]\n",
    "slau_b = np.ones((3, 1))\n",
    "x = np.ones((3, 1))\n",
    "slau_b[0, 0] = slau[0, 3]\n",
    "slau_b[1, 0] = slau[1, 3]\n",
    "slau_b[2, 0] = slau[2, 3]\n",
    "\n",
    "print(\"slau_a\")\n",
    "print(slau_a)\n",
    "print(\"slau_b\")\n",
    "print(slau_b)"
   ]
  },
  {
   "cell_type": "markdown",
   "id": "35e770dd",
   "metadata": {},
   "source": [
    "Найдем определитель и дополнительные определители, а текже решения по формулам Крамера"
   ]
  },
  {
   "cell_type": "code",
   "execution_count": 61,
   "id": "4b2ca11e",
   "metadata": {},
   "outputs": [
    {
     "name": "stdout",
     "output_type": "stream",
     "text": [
      "Решения:\n",
      "[[-2.09338521]\n",
      " [ 1.15564202]\n",
      " [ 1.61867704]]\n"
     ]
    }
   ],
   "source": [
    "#Найдем определитель\n",
    "A_det = np.linalg.det(slau_a)\n",
    "\n",
    "if A_det != 0:\n",
    "    #Найдем дополнительные определители\n",
    "    for i in range(3):\n",
    "        A_dop = slau_a.copy()\n",
    "        A_dop[:, i] = slau_b[:, 0]\n",
    "        x[i,0] = round(np.linalg.det(A_dop), 3) / round(np.linalg.det(slau_a), 3)\n",
    "    print(\"Решения:\")\n",
    "    print(x)\n",
    "else:\n",
    "    print(\"Матрица вырожденная, нельзя продолжить\")"
   ]
  }
 ],
 "metadata": {
  "kernelspec": {
   "display_name": "Python 3 (ipykernel)",
   "language": "python",
   "name": "python3"
  },
  "language_info": {
   "codemirror_mode": {
    "name": "ipython",
    "version": 3
   },
   "file_extension": ".py",
   "mimetype": "text/x-python",
   "name": "python",
   "nbconvert_exporter": "python",
   "pygments_lexer": "ipython3",
   "version": "3.9.12"
  }
 },
 "nbformat": 4,
 "nbformat_minor": 5
}
