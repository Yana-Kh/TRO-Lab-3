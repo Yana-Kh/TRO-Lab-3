{
 "cells": [
  {
   "cell_type": "markdown",
   "id": "69b0606e",
   "metadata": {},
   "source": [
    "Создать ноутбук, в котором будут приведены собственные примеры решения систем линейных уравнений матричным методом и методом Крамера."
   ]
  },
  {
   "cell_type": "markdown",
   "id": "a0e32675",
   "metadata": {},
   "source": [
    "# Матричным метод"
   ]
  },
  {
   "cell_type": "code",
   "execution_count": 3,
   "id": "a7bde40c",
   "metadata": {},
   "outputs": [
    {
     "data": {
      "text/plain": [
       "array([[ 8, 10,  5, 14],\n",
       "       [11, 14,  5,  7],\n",
       "       [ 3,  7,  2,  1]])"
      ]
     },
     "execution_count": 3,
     "metadata": {},
     "output_type": "execute_result"
    }
   ],
   "source": [
    "import numpy as np\n",
    "slau = np.random.randint(0, 15, size = (3, 4))\n",
    "slau"
   ]
  },
  {
   "cell_type": "code",
   "execution_count": 41,
   "id": "7f117685",
   "metadata": {},
   "outputs": [
    {
     "name": "stdout",
     "output_type": "stream",
     "text": [
      "slau_a\n",
      "[[ 8 10  5]\n",
      " [11 14  5]\n",
      " [ 3  7  2]]\n",
      "slau_b\n",
      "[[14.]\n",
      " [ 7.]\n",
      " [ 1.]]\n"
     ]
    }
   ],
   "source": [
    "slau_a = slau[:, 0:3]\n",
    "slau_b = np.ones((3, 1))\n",
    "x = np.ones((3, 1))\n",
    "slau_b[0, 0] = slau[0, 3]\n",
    "slau_b[1, 0] = slau[1, 3]\n",
    "slau_b[2, 0] = slau[2, 3]\n",
    "\n",
    "print(\"slau_a\")\n",
    "print(slau_a)\n",
    "print(\"slau_b\")\n",
    "print(slau_b)"
   ]
  },
  {
   "cell_type": "code",
   "execution_count": 42,
   "id": "eb137121",
   "metadata": {},
   "outputs": [
    {
     "name": "stdout",
     "output_type": "stream",
     "text": [
      "Решения:\n",
      "[[-0.26530612]\n",
      " [-1.55102041]\n",
      " [ 6.32653061]]\n"
     ]
    }
   ],
   "source": [
    "#Найдем определитель\n",
    "A_det = np.linalg.det(slau_a)\n",
    "\n",
    "if A_det != 0:\n",
    "    #Найдем обратную матрицу\n",
    "    A_inv = np.linalg.inv(slau_a)\n",
    "    x = A_inv.dot(slau_b)\n",
    "    print(\"Решения:\")\n",
    "    print(x)\n",
    "else:\n",
    "    print(\"Матрица вырожденная, нельзя продолжить\")"
   ]
  },
  {
   "cell_type": "markdown",
   "id": "54c13d40",
   "metadata": {},
   "source": [
    "# Метод Крамера"
   ]
  },
  {
   "cell_type": "code",
   "execution_count": 46,
   "id": "34eb1827",
   "metadata": {},
   "outputs": [],
   "source": [
    "slau = np.random.randint(0, 15, size = (3, 4))"
   ]
  },
  {
   "cell_type": "code",
   "execution_count": 47,
   "id": "d72c603c",
   "metadata": {},
   "outputs": [
    {
     "name": "stdout",
     "output_type": "stream",
     "text": [
      "slau_a\n",
      "[[ 2  7  3]\n",
      " [13 11  0]\n",
      " [ 9 14  2]]\n",
      "slau_b\n",
      "[[6.]\n",
      " [1.]\n",
      " [3.]]\n"
     ]
    }
   ],
   "source": [
    "slau_a = slau[:, 0:3]\n",
    "slau_b = np.ones((3, 1))\n",
    "x = np.ones((3, 1))\n",
    "slau_b[0, 0] = slau[0, 3]\n",
    "slau_b[1, 0] = slau[1, 3]\n",
    "slau_b[2, 0] = slau[2, 3]\n",
    "\n",
    "print(\"slau_a\")\n",
    "print(slau_a)\n",
    "print(\"slau_b\")\n",
    "print(slau_b)"
   ]
  },
  {
   "cell_type": "code",
   "execution_count": 52,
   "id": "0118df79",
   "metadata": {},
   "outputs": [
    {
     "name": "stdout",
     "output_type": "stream",
     "text": [
      "Решения:\n",
      "[[ 0.54954955]\n",
      " [-0.55855856]\n",
      " [ 2.93693694]]\n"
     ]
    }
   ],
   "source": [
    "#Найдем определитель\n",
    "A_det = np.linalg.det(slau_a)\n",
    "\n",
    "if A_det != 0:\n",
    "    #Найдем дополнительные определители\n",
    "    for i in range(3):\n",
    "        A_dop = slau_a.copy()\n",
    "        A_dop[:, i] = slau_b[:, 0]\n",
    "        x[i,0] = round(np.linalg.det(A_dop), 3) / round(np.linalg.det(slau_a), 3)\n",
    "    print(\"Решения:\")\n",
    "    print(x)\n",
    "else:\n",
    "    print(\"Матрица вырожденная, нельзя продолжить\")"
   ]
  }
 ],
 "metadata": {
  "kernelspec": {
   "display_name": "Python 3 (ipykernel)",
   "language": "python",
   "name": "python3"
  },
  "language_info": {
   "codemirror_mode": {
    "name": "ipython",
    "version": 3
   },
   "file_extension": ".py",
   "mimetype": "text/x-python",
   "name": "python",
   "nbconvert_exporter": "python",
   "pygments_lexer": "ipython3",
   "version": "3.9.12"
  }
 },
 "nbformat": 4,
 "nbformat_minor": 5
}
