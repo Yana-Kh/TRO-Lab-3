{
 "cells": [
  {
   "cell_type": "markdown",
   "id": "e0d26e5a",
   "metadata": {},
   "source": [
    "## **Задача:** \n",
    "Создать ноутбук, в котором будут приведены собственные примеры на языке Python для каждого из представленных свойств матричных вычислений."
   ]
  },
  {
   "cell_type": "code",
   "execution_count": 83,
   "id": "ae2067d1",
   "metadata": {},
   "outputs": [],
   "source": [
    "import numpy as np"
   ]
  },
  {
   "cell_type": "markdown",
   "id": "a4e3df12",
   "metadata": {},
   "source": [
    "Свойство 1. Дважды транспонированная матрица равна исходной матрице:"
   ]
  },
  {
   "cell_type": "code",
   "execution_count": 4,
   "id": "a7de72d3",
   "metadata": {},
   "outputs": [
    {
     "name": "stdout",
     "output_type": "stream",
     "text": [
      "[[ 8  9  3  5]\n",
      " [ 0  9  5 17]\n",
      " [ 8  4  0  0]]\n",
      "Транспонированная: \n",
      "[[ 8  0  8]\n",
      " [ 9  9  4]\n",
      " [ 3  5  0]\n",
      " [ 5 17  0]]\n",
      "Транспонированная второй раз: \n",
      "[[ 8  9  3  5]\n",
      " [ 0  9  5 17]\n",
      " [ 8  4  0  0]]\n"
     ]
    }
   ],
   "source": [
    "A = np.matrix('8 9 3 5; 0 9 5 17; 8 4 0 0')\n",
    "print(A)\n",
    "print(\"Транспонированная: \")\n",
    "print(A.T)\n",
    "print(\"Транспонированная второй раз: \")\n",
    "R = (A.T).T\n",
    "print(R)"
   ]
  },
  {
   "cell_type": "markdown",
   "id": "4cbebb51",
   "metadata": {},
   "source": [
    "Свойство 2. Транспонирование суммы матриц равно сумме транспонированных матриц:"
   ]
  },
  {
   "cell_type": "code",
   "execution_count": 8,
   "id": "9795dde2",
   "metadata": {},
   "outputs": [
    {
     "name": "stdout",
     "output_type": "stream",
     "text": [
      "A:\n",
      "[[14  3]\n",
      " [ 7  8]\n",
      " [ 0  9]],\n",
      "B:\n",
      "[[ 1  9]\n",
      " [10  5]\n",
      " [12  7]]\n",
      "Транспонирование суммы матриц:\n",
      "[[15 17 12]\n",
      " [12 13 16]]\n",
      "Сумма транспонированных матриц:\n",
      "[[15 17 12]\n",
      " [12 13 16]]\n"
     ]
    }
   ],
   "source": [
    "A = np.matrix('14 3; 7 8; 0 9')\n",
    "B = np.matrix('1 9; 10 5; 12 7')\n",
    "print(f\"A:\\n{A},\\nB:\\n{B}\")\n",
    "\n",
    "print(\"Транспонирование суммы матриц:\")\n",
    "L = (A + B).T\n",
    "print(L)\n",
    "\n",
    "print(\"Сумма транспонированных матриц:\")\n",
    "R = A.T + B.T\n",
    "print(R)"
   ]
  },
  {
   "cell_type": "markdown",
   "id": "3513f588",
   "metadata": {},
   "source": [
    "Свойство 3. Транспонирование произведения матриц равно произведению транспонированных\n",
    "матриц расставленных в обратном порядке"
   ]
  },
  {
   "cell_type": "code",
   "execution_count": 11,
   "id": "266df21e",
   "metadata": {},
   "outputs": [
    {
     "name": "stdout",
     "output_type": "stream",
     "text": [
      "A:\n",
      "[[0 2]\n",
      " [1 9]\n",
      " [9 2]],\n",
      "B:\n",
      "[[23  4  6]\n",
      " [ 7  1  1]]\n",
      "Транспонирование произведения матриц:\n",
      "[[ 14  86 221]\n",
      " [  2  13  38]\n",
      " [  2  15  56]]\n",
      "Произведение транспонированных матриц:\n",
      "[[ 14  86 221]\n",
      " [  2  13  38]\n",
      " [  2  15  56]]\n"
     ]
    }
   ],
   "source": [
    "A = np.matrix('0 2; 1 9; 9 2')\n",
    "B = np.matrix('23 4 6; 7 1 1')\n",
    "print(f\"A:\\n{A},\\nB:\\n{B}\")\n",
    "\n",
    "print(\"Транспонирование произведения матриц:\")\n",
    "L = (A.dot(B)).T\n",
    "print(L)\n",
    "\n",
    "print(\"Произведение транспонированных матриц:\")\n",
    "R = (B.T).dot(A.T)\n",
    "print(R)"
   ]
  },
  {
   "cell_type": "markdown",
   "id": "f0934afb",
   "metadata": {},
   "source": [
    "Свойство 4. Транспонирование произведения матрицы на число равно произведению этого\n",
    "числа на транспонированную матрицу"
   ]
  },
  {
   "cell_type": "code",
   "execution_count": 12,
   "id": "4a7c804c",
   "metadata": {},
   "outputs": [
    {
     "name": "stdout",
     "output_type": "stream",
     "text": [
      "A:\n",
      "[[23  4  6]\n",
      " [ 7  1  1]],\n",
      "k:3\n",
      "Транспонирование произведения матрицы на число:\n",
      "[[69 21]\n",
      " [12  3]\n",
      " [18  3]]\n",
      "Произведение числа на транспонированную матрицу:\n",
      "[[69 21]\n",
      " [12  3]\n",
      " [18  3]]\n"
     ]
    }
   ],
   "source": [
    "A = np.matrix('23 4 6; 7 1 1')\n",
    "k = 3\n",
    "print(f\"A:\\n{A},\\nk:{k}\")\n",
    "\n",
    "print(\"Транспонирование произведения матрицы на число:\")\n",
    "L =  (k * A).T\n",
    "print(L)\n",
    "\n",
    "print(\"Произведение числа на транспонированную матрицу:\")\n",
    "R =  k * (A.T)\n",
    "print(R)"
   ]
  },
  {
   "cell_type": "markdown",
   "id": "ad7af863",
   "metadata": {},
   "source": [
    "Свойство 5. Определители исходной и транспонированной матрицы совпадают:"
   ]
  },
  {
   "cell_type": "code",
   "execution_count": 17,
   "id": "3ba93fa2",
   "metadata": {},
   "outputs": [
    {
     "name": "stdout",
     "output_type": "stream",
     "text": [
      "A:\n",
      "[[ 1  0  9]\n",
      " [10  6  5]\n",
      " [12  1  7]]\n",
      "\n",
      "Определитель исходной матрицы:\n",
      "-521\n",
      "Определитель транспонированной матрицы:\n",
      "-521\n"
     ]
    }
   ],
   "source": [
    "A = np.matrix('1 0 9; 10 6 5; 12 1 7')\n",
    "print(f\"A:\\n{A}\")\n",
    "\n",
    "print(\"\\nОпределитель исходной матрицы:\")\n",
    "A_det = np.linalg.det(A)\n",
    "print(format(A_det, '.9g'))\n",
    "\n",
    "print(\"Определитель транспонированной матрицы:\")\n",
    "A_T_det = np.linalg.det(A.T)\n",
    "print(format(A_T_det, '.9g'))"
   ]
  },
  {
   "cell_type": "markdown",
   "id": "41dbd8ee",
   "metadata": {},
   "source": [
    "_Действия над матрицами_"
   ]
  },
  {
   "cell_type": "markdown",
   "id": "c6451fce",
   "metadata": {},
   "source": [
    "Умножение матрицы на число"
   ]
  },
  {
   "cell_type": "markdown",
   "id": "9c0a9efa",
   "metadata": {},
   "source": [
    "Свойство 1. Произведение единицы и любой заданной матрицы равно заданной матрице:"
   ]
  },
  {
   "cell_type": "code",
   "execution_count": 19,
   "id": "fb38f2af",
   "metadata": {},
   "outputs": [
    {
     "name": "stdout",
     "output_type": "stream",
     "text": [
      "A:\n",
      "[[1 2]\n",
      " [3 4]]\n",
      "\n",
      "Произведение единицы и матрицы:\n",
      "[[1 2]\n",
      " [3 4]]\n"
     ]
    }
   ],
   "source": [
    "A = np.matrix('1 2; 3 4')\n",
    "print(f\"A:\\n{A}\")\n",
    "\n",
    "print(\"\\nПроизведение единицы и матрицы:\")\n",
    "L = 1 * A\n",
    "print(L)"
   ]
  },
  {
   "cell_type": "markdown",
   "id": "3328f811",
   "metadata": {},
   "source": [
    "Свойство 2. Произведение нуля и любой матрицы равно нулевой матрице, размерность которой\n",
    "равна исходной матрицы:"
   ]
  },
  {
   "cell_type": "code",
   "execution_count": 21,
   "id": "ba2a83f0",
   "metadata": {},
   "outputs": [
    {
     "name": "stdout",
     "output_type": "stream",
     "text": [
      "Нулевая матрица:\n",
      "[[0 0]\n",
      " [0 0]\n",
      " [0 0]]\n",
      "Произведение матрицы на 0:\n",
      "[[0 0]\n",
      " [0 0]\n",
      " [0 0]]\n"
     ]
    }
   ],
   "source": [
    "A = np.matrix('14 3; 7 8; 0 9')\n",
    "Z = np.matrix('0 0; 0 0; 0 0')\n",
    "L = 0 * A\n",
    "print(\"Нулевая матрица:\")\n",
    "print(Z)\n",
    "print(\"Произведение матрицы на 0:\")\n",
    "print(L)"
   ]
  },
  {
   "cell_type": "markdown",
   "id": "5a90e3a1",
   "metadata": {},
   "source": [
    "Свойство 3. Произведение матрицы на сумму чисел равно сумме произведений матрицы на\n",
    "каждое из этих чисел:"
   ]
  },
  {
   "cell_type": "code",
   "execution_count": 22,
   "id": "6d9ec73b",
   "metadata": {},
   "outputs": [
    {
     "name": "stdout",
     "output_type": "stream",
     "text": [
      "A:\n",
      "[[23  4  6]\n",
      " [ 7  1  1]]\n",
      "\n",
      "Произведение матрицы на сумму чисел:\n",
      "[[184  32  48]\n",
      " [ 56   8   8]]\n",
      "Произведений матрицы на каждое из этих чисел:\n",
      "[[184  32  48]\n",
      " [ 56   8   8]]\n"
     ]
    }
   ],
   "source": [
    "A = np.matrix('23 4 6; 7 1 1')\n",
    "print(f\"A:\\n{A}\")\n",
    "print(\"\\nПроизведение матрицы на сумму чисел:\")\n",
    "L = (6 + 2) * A\n",
    "print(L)\n",
    "print(\"Произведений матрицы на каждое из этих чисел:\")\n",
    "R = 6 * A + 2 * A\n",
    "print(R)"
   ]
  },
  {
   "cell_type": "markdown",
   "id": "48ee589b",
   "metadata": {},
   "source": [
    "Свойство 4. Произведение матрицы на произведение двух чисел равно произведению второго\n",
    "числа и заданной матрицы, умноженному на первое число:"
   ]
  },
  {
   "cell_type": "code",
   "execution_count": 23,
   "id": "1807fbb2",
   "metadata": {},
   "outputs": [
    {
     "name": "stdout",
     "output_type": "stream",
     "text": [
      "A:\n",
      "[[ 8  1  5]\n",
      " [ 7  7  1]\n",
      " [ 0  9 18]]\n",
      "\n",
      "Произведение матрицы на произведение чисел:\n",
      "[[112  14  70]\n",
      " [ 98  98  14]\n",
      " [  0 126 252]]\n",
      "Произведений второго числа и заданной матрицы, умноженному на первое число:\n",
      "[[112  14  70]\n",
      " [ 98  98  14]\n",
      " [  0 126 252]]\n"
     ]
    }
   ],
   "source": [
    "A = np.matrix('8 1 5; 7 7 1; 0 9 18')\n",
    "print(f\"A:\\n{A}\")\n",
    "print(\"\\nПроизведение матрицы на произведение чисел:\")\n",
    "L = (7 * 2) * A\n",
    "print(L)\n",
    "\n",
    "print(\"Произведений второго числа и заданной матрицы, умноженному на первое число:\")\n",
    "R = 7 * (2 * A)\n",
    "print(R)"
   ]
  },
  {
   "cell_type": "markdown",
   "id": "b04fc287",
   "metadata": {},
   "source": [
    "Свойство 5. Произведение суммы матриц на число равно сумме произведений этих матриц на\n",
    "заданное число:"
   ]
  },
  {
   "cell_type": "code",
   "execution_count": 25,
   "id": "e211421a",
   "metadata": {},
   "outputs": [
    {
     "name": "stdout",
     "output_type": "stream",
     "text": [
      "A:\n",
      "[[0 9]\n",
      " [3 5]],\n",
      "B:\n",
      "[[ 1  8]\n",
      " [11  3]]\n",
      "\n",
      "Произведение суммы матриц на число:\n",
      "[[ 3 51]\n",
      " [42 24]]\n",
      "\n",
      "Cуммa произведений этих матриц на заданное число:\n",
      "[[ 3 51]\n",
      " [42 24]]\n"
     ]
    }
   ],
   "source": [
    "A = np.matrix('0 9; 3 5')\n",
    "B = np.matrix('1 8; 11 3')\n",
    "k = 3\n",
    "print(f\"A:\\n{A},\\nB:\\n{B}\")\n",
    "\n",
    "print(\"\\nПроизведение суммы матриц на число:\")\n",
    "L = k * (A + B)\n",
    "print(L)\n",
    "\n",
    "print(\"\\nCуммa произведений этих матриц на заданное число:\")\n",
    "R = k * A + k * B\n",
    "print(R)"
   ]
  },
  {
   "cell_type": "markdown",
   "id": "c52ae203",
   "metadata": {},
   "source": [
    "Сложение матриц"
   ]
  },
  {
   "cell_type": "markdown",
   "id": "f50792f2",
   "metadata": {},
   "source": [
    "Свойство 1. Коммутативность сложения. От перестановки матриц их сумма не изменяется:"
   ]
  },
  {
   "cell_type": "code",
   "execution_count": 26,
   "id": "55b5d5fe",
   "metadata": {},
   "outputs": [
    {
     "name": "stdout",
     "output_type": "stream",
     "text": [
      "A:\n",
      "[[14  3]\n",
      " [ 7  8]\n",
      " [ 0  9]],\n",
      "B:\n",
      "[[ 1  9]\n",
      " [10  5]\n",
      " [12  7]]\n",
      "\n",
      "A + B\n",
      "[[15 12]\n",
      " [17 13]\n",
      " [12 16]]\n",
      "\n",
      "B + A\n",
      "[[15 12]\n",
      " [17 13]\n",
      " [12 16]]\n"
     ]
    }
   ],
   "source": [
    "A = np.matrix('14 3; 7 8; 0 9')\n",
    "B = np.matrix('1 9; 10 5; 12 7')\n",
    "print(f\"A:\\n{A},\\nB:\\n{B}\")\n",
    "\n",
    "print(\"\\nA + B\")\n",
    "L = A + B\n",
    "print(L)\n",
    "print(\"\\nB + A\")\n",
    "R = B + A\n",
    "print(R)"
   ]
  },
  {
   "cell_type": "markdown",
   "id": "1a721316",
   "metadata": {},
   "source": [
    "Свойство 2. Ассоциативность сложения. Результат сложения трех и более матриц не зависит от\n",
    "порядка, в котором эта операция будет выполняться:"
   ]
  },
  {
   "cell_type": "code",
   "execution_count": 30,
   "id": "94e45d5f",
   "metadata": {},
   "outputs": [
    {
     "name": "stdout",
     "output_type": "stream",
     "text": [
      "A:\n",
      "[[0 2 1]\n",
      " [9 9 2]],\n",
      "B:\n",
      "[[23  4  6]\n",
      " [ 7  1  1]],\n",
      "C:\n",
      "[[9 1 7]\n",
      " [9 6 3]]\n",
      "\n",
      "A + (B + C)\n",
      "[[32  7 14]\n",
      " [25 16  6]]\n",
      "\n",
      "(A + B) + C\n",
      "[[32  7 14]\n",
      " [25 16  6]]\n"
     ]
    }
   ],
   "source": [
    "A = np.matrix('0 2 1; 9 9 2')\n",
    "B = np.matrix('23 4 6; 7 1 1')\n",
    "C = np.matrix('9 1 7; 9 6 3')\n",
    "print(f\"A:\\n{A},\\nB:\\n{B},\\nC:\\n{C}\")\n",
    "\n",
    "print(\"\\nA + (B + C)\")\n",
    "L = A + (B + C)\n",
    "print(L)\n",
    "print(\"\\n(A + B) + C\")\n",
    "R = (A + B) + C\n",
    "print(R)"
   ]
  },
  {
   "cell_type": "markdown",
   "id": "1b285609",
   "metadata": {},
   "source": [
    "Свойство 3. Для любой матрицы существует противоположная ей , такая, что их сумма является\n",
    "нулевой матрицей:"
   ]
  },
  {
   "cell_type": "code",
   "execution_count": 32,
   "id": "90f8e890",
   "metadata": {},
   "outputs": [
    {
     "name": "stdout",
     "output_type": "stream",
     "text": [
      "A:\n",
      "[[9 4 3]\n",
      " [2 3 3]\n",
      " [9 0 1]]\n",
      "-A:\n",
      "[[-9 -4 -3]\n",
      " [-2 -3 -3]\n",
      " [-9  0 -1]]\n",
      "Сумма:\n",
      "[[0 0 0]\n",
      " [0 0 0]\n",
      " [0 0 0]]\n"
     ]
    }
   ],
   "source": [
    "A = np.matrix('9 4 3; 2 3 3; 9 0 1')\n",
    "\n",
    "print(f\"A:\\n{A}\")\n",
    "print(f\"-A:\\n{A * (-1)}\")\n",
    "\n",
    "print(f\"Сумма:\")\n",
    "L = A + (-1)*A\n",
    "print(L)"
   ]
  },
  {
   "cell_type": "markdown",
   "id": "eb88a9ef",
   "metadata": {},
   "source": [
    "Умножение матриц"
   ]
  },
  {
   "cell_type": "markdown",
   "id": "350ee1bc",
   "metadata": {},
   "source": [
    "Свойство 1. Ассоциативность умножения. Результат умножения матриц не зависит от порядка, в\n",
    "котором будет выполняться эта операция:"
   ]
  },
  {
   "cell_type": "code",
   "execution_count": 35,
   "id": "23dc7bfb",
   "metadata": {},
   "outputs": [
    {
     "name": "stdout",
     "output_type": "stream",
     "text": [
      "A:\n",
      "[[4 7]\n",
      " [1 2]],\n",
      "B:\n",
      "[[1 1]\n",
      " [9 3]],\n",
      "C:\n",
      "[[6 1]\n",
      " [2 0]]\n",
      "A*(B*C)\n",
      "[[452  67]\n",
      " [128  19]]\n",
      "(A*B)*C\n",
      "[[452  67]\n",
      " [128  19]]\n"
     ]
    }
   ],
   "source": [
    "A = np.matrix('4 7; 1 2')\n",
    "B = np.matrix('1 1; 9 3')\n",
    "C = np.matrix('6 1; 2 0')\n",
    "print(f\"A:\\n{A},\\nB:\\n{B},\\nC:\\n{C}\")\n",
    "\n",
    "print(\"A*(B*C)\")\n",
    "L = A.dot(B.dot(C))\n",
    "print(L)\n",
    "print(\"(A*B)*C\")\n",
    "R = (A.dot(B)).dot(C)\n",
    "print(R)"
   ]
  },
  {
   "cell_type": "markdown",
   "id": "a412b6ba",
   "metadata": {},
   "source": [
    "Свойство 2. Дистрибутивность умножения. Произведение матрицы на сумму матриц равно\n",
    "сумме произведений матриц:"
   ]
  },
  {
   "cell_type": "code",
   "execution_count": 36,
   "id": "143340ed",
   "metadata": {},
   "outputs": [
    {
     "name": "stdout",
     "output_type": "stream",
     "text": [
      "A:\n",
      "[[0 2 1]\n",
      " [9 9 2]\n",
      " [5 6 1]],\n",
      "B:\n",
      "[[23  4  6]\n",
      " [ 7  1  1]\n",
      " [ 2  0  8]],\n",
      "C:\n",
      "[[9 1 7]\n",
      " [9 6 3]\n",
      " [5 6 1]]\n",
      "A * (B+C)\n",
      "[[ 39  20  17]\n",
      " [446 120 171]\n",
      " [263  73  98]]\n",
      "A*B + A*C)\n",
      "[[ 39  20  17]\n",
      " [446 120 171]\n",
      " [263  73  98]]\n"
     ]
    }
   ],
   "source": [
    "A = np.matrix('0 2 1; 9 9 2; 5 6 1')\n",
    "B = np.matrix('23 4 6; 7 1 1; 2 0 8')\n",
    "C = np.matrix('9 1 7; 9 6 3; 5 6 1')\n",
    "print(f\"A:\\n{A},\\nB:\\n{B},\\nC:\\n{C}\")\n",
    "\n",
    "print(\"A * (B+C)\")\n",
    "L = A.dot(B + C)\n",
    "print(L)\n",
    "print(\"A*B + A*C)\")\n",
    "R = A.dot(B) + A.dot(C)\n",
    "print(R)"
   ]
  },
  {
   "cell_type": "markdown",
   "id": "d3eedf1e",
   "metadata": {},
   "source": [
    "Свойство 3. Умножение матриц в общем виде не коммутативно. Это означает, что для матриц не\n",
    "выполняется правило независимости произведения от перестановки множителей:"
   ]
  },
  {
   "cell_type": "code",
   "execution_count": 40,
   "id": "46273a15",
   "metadata": {},
   "outputs": [
    {
     "name": "stdout",
     "output_type": "stream",
     "text": [
      "A:\n",
      "[[0 9]\n",
      " [3 5]],\n",
      "B:\n",
      "[[ 1  8]\n",
      " [11  3]]\n",
      "\n",
      "A*B\n",
      "[[99 27]\n",
      " [58 39]]\n",
      "B*A\n",
      "[[ 24  49]\n",
      " [  9 114]]\n"
     ]
    }
   ],
   "source": [
    "A = np.matrix('0 9; 3 5')\n",
    "B = np.matrix('1 8; 11 3')\n",
    "print(f\"A:\\n{A},\\nB:\\n{B}\\n\")\n",
    "      \n",
    "print(\"A*B\")\n",
    "L = A.dot(B)\n",
    "print(L)\n",
    "print(\"B*A\")\n",
    "R = B.dot(A)\n",
    "print(R)"
   ]
  },
  {
   "cell_type": "markdown",
   "id": "547c5ae0",
   "metadata": {},
   "source": [
    "Свойство 4. Произведение заданной матрицы на единичную равно исходной матрице:"
   ]
  },
  {
   "cell_type": "code",
   "execution_count": 41,
   "id": "ab829f2e",
   "metadata": {},
   "outputs": [
    {
     "name": "stdout",
     "output_type": "stream",
     "text": [
      "A:\n",
      "[[0 2 1]\n",
      " [9 9 2]\n",
      " [5 6 1]]\n",
      "E*A\n",
      "[[0. 2. 1.]\n",
      " [9. 9. 2.]\n",
      " [5. 6. 1.]]\n",
      "A*E\n",
      "[[0. 2. 1.]\n",
      " [9. 9. 2.]\n",
      " [5. 6. 1.]]\n"
     ]
    }
   ],
   "source": [
    "A = np.matrix('0 2 1; 9 9 2; 5 6 1')\n",
    "E = np.eye(3)\n",
    "print(f\"A:\\n{A}\")\n",
    "\n",
    "print(\"E*A\")\n",
    "L = E.dot(A)\n",
    "print(L)\n",
    "print(\"A*E\")\n",
    "R = A.dot(E)\n",
    "print(R)"
   ]
  },
  {
   "cell_type": "markdown",
   "id": "705482f3",
   "metadata": {},
   "source": [
    "Свойство 5. Произведение заданной матрицы на нулевую матрицу равно нулевой матрице:"
   ]
  },
  {
   "cell_type": "code",
   "execution_count": 42,
   "id": "9f154613",
   "metadata": {},
   "outputs": [
    {
     "name": "stdout",
     "output_type": "stream",
     "text": [
      "A:\n",
      "[[0 2 1]\n",
      " [9 9 2]\n",
      " [5 6 1]]\n",
      "Z*A\n",
      "[[0 0 0]\n",
      " [0 0 0]\n",
      " [0 0 0]]\n",
      "A*Z\n",
      "[[0 0 0]\n",
      " [0 0 0]\n",
      " [0 0 0]]\n"
     ]
    }
   ],
   "source": [
    "A = np.matrix('0 2 1; 9 9 2; 5 6 1')\n",
    "E = np.zeros((3, 3))\n",
    "print(f\"A:\\n{A}\")\n",
    "\n",
    "print(\"Z*A\")\n",
    "L = Z.dot(A)\n",
    "print(L)\n",
    "print(\"A*Z\")\n",
    "R = A.dot(Z)\n",
    "print(R)"
   ]
  },
  {
   "cell_type": "markdown",
   "id": "6dda9fea",
   "metadata": {},
   "source": [
    "Определитель матрицы"
   ]
  },
  {
   "cell_type": "markdown",
   "id": "5da57eb1",
   "metadata": {},
   "source": [
    "Свойство 1. Определитель матрицы остается неизменным при ее транспонировании:"
   ]
  },
  {
   "cell_type": "code",
   "execution_count": 47,
   "id": "af345ed6",
   "metadata": {},
   "outputs": [
    {
     "name": "stdout",
     "output_type": "stream",
     "text": [
      "A:\n",
      "[[9 1 7]\n",
      " [9 6 3]\n",
      " [5 6 1]]\n",
      "\n",
      "|A| = 66.0\n",
      "\n",
      "A(T):\n",
      "[[9 9 5]\n",
      " [1 6 6]\n",
      " [7 3 1]]\n",
      "\n",
      "|A(T)| = 66.0\n"
     ]
    }
   ],
   "source": [
    "A = np.matrix('9 1 7; 9 6 3; 5 6 1')\n",
    "print(f\"A:\\n{A}\\n\")\n",
    "det_A = round(np.linalg.det(A), 3)\n",
    "print(f\"|A| = {det_A}\\n\")\n",
    "\n",
    "print(f\"A(T):\\n{A.T}\\n\")\n",
    "det_A_t = round(np.linalg.det(A.T), 3)\n",
    "print(f\"|A(T)| = {det_A_t}\")\n"
   ]
  },
  {
   "cell_type": "markdown",
   "id": "a25b683e",
   "metadata": {},
   "source": [
    "Свойство 2. Если у матрицы есть строка или столбец, состоящие из нулей, то определитель\n",
    "такой матрицы равен нулю:"
   ]
  },
  {
   "cell_type": "code",
   "execution_count": 53,
   "id": "c37c0822",
   "metadata": {},
   "outputs": [
    {
     "name": "stdout",
     "output_type": "stream",
     "text": [
      "A:\n",
      "[[9 1 7]\n",
      " [9 6 3]\n",
      " [5 6 1]]\n",
      "\n",
      "|A| = 66.0\n",
      "\n",
      "A:\n",
      "[[0 1 7]\n",
      " [0 6 3]\n",
      " [0 6 1]]\n",
      "\n",
      "|A| = 0.0\n",
      "\n",
      "A:\n",
      "[[9 1 7]\n",
      " [9 6 3]\n",
      " [0 0 0]]\n",
      "\n",
      "|A| = 0.0\n",
      "\n"
     ]
    }
   ],
   "source": [
    "A = np.matrix('9 1 7; 9 6 3; 5 6 1')\n",
    "print(f\"A:\\n{A}\\n\")\n",
    "det_A = round(np.linalg.det(A), 3)\n",
    "print(f\"|A| = {det_A}\\n\")\n",
    "\n",
    "A = np.matrix('0 1 7; 0 6 3; 0 6 1')\n",
    "print(f\"A:\\n{A}\\n\")\n",
    "\n",
    "det_A = round(np.linalg.det(A), 3)\n",
    "print(f\"|A| = {det_A}\\n\")\n",
    "\n",
    "A = np.matrix('9 1 7; 9 6 3;0 0 0')\n",
    "print(f\"A:\\n{A}\\n\")\n",
    "det_A = round(np.linalg.det(A), 3)\n",
    "print(f\"|A| = {det_A}\\n\")"
   ]
  },
  {
   "cell_type": "markdown",
   "id": "e16a401f",
   "metadata": {},
   "source": [
    "Свойство 3. При перестановке строк матрицы знак ее определителя меняется на\n",
    "противоположный:"
   ]
  },
  {
   "cell_type": "code",
   "execution_count": 58,
   "id": "291c4675",
   "metadata": {},
   "outputs": [
    {
     "name": "stdout",
     "output_type": "stream",
     "text": [
      "A:\n",
      "[[9 1 7]\n",
      " [9 6 3]\n",
      " [5 6 1]]\n",
      "\n",
      "|A| = 66.0\n",
      "\n",
      "B:\n",
      "[[9 1 7]\n",
      " [5 6 1]\n",
      " [9 6 3]]\n",
      "\n",
      "|B| = -66.0\n",
      "\n"
     ]
    }
   ],
   "source": [
    "A = np.matrix('9 1 7; 9 6 3; 5 6 1')\n",
    "print(f\"A:\\n{A}\\n\")\n",
    "det_A = round(np.linalg.det(A), 3)\n",
    "print(f\"|A| = {det_A}\\n\")\n",
    "\n",
    "B = np.matrix('9 1 7; 5 6 1; 9 6 3')\n",
    "print(f\"B:\\n{B}\\n\")\n",
    "det_B = round(np.linalg.det(B), 3)\n",
    "print(f\"|B| = {det_B}\\n\")"
   ]
  },
  {
   "cell_type": "markdown",
   "id": "67a96084",
   "metadata": {},
   "source": [
    "Свойство 4. Если у матрицы есть две одинаковые строки, то ее определитель равен нулю:"
   ]
  },
  {
   "cell_type": "code",
   "execution_count": 59,
   "id": "736c8867",
   "metadata": {},
   "outputs": [
    {
     "name": "stdout",
     "output_type": "stream",
     "text": [
      "A:\n",
      "[[9 1 7]\n",
      " [9 6 3]\n",
      " [5 6 1]]\n",
      "\n",
      "|A| = 66.0\n",
      "\n",
      "A:\n",
      "[[9 1 7]\n",
      " [5 6 1]\n",
      " [5 6 1]]\n",
      "\n",
      "|A| = 0.0\n",
      "\n"
     ]
    }
   ],
   "source": [
    "A = np.matrix('9 1 7; 9 6 3; 5 6 1')\n",
    "print(f\"A:\\n{A}\\n\")\n",
    "det_A = round(np.linalg.det(A), 3)\n",
    "print(f\"|A| = {det_A}\\n\")\n",
    "\n",
    "A = np.matrix('9 1 7; 5 6 1; 5 6 1')\n",
    "print(f\"A:\\n{A}\\n\")\n",
    "det_A = round(np.linalg.det(A), 3)\n",
    "print(f\"|A| = {det_A}\\n\")"
   ]
  },
  {
   "cell_type": "markdown",
   "id": "2fc97968",
   "metadata": {},
   "source": [
    "Свойство 5. Если все элементы строки или столбца матрицы умножить на какое-то число, то и\n",
    "определитель будет умножен на это число:"
   ]
  },
  {
   "cell_type": "code",
   "execution_count": 67,
   "id": "648d0c26",
   "metadata": {},
   "outputs": [
    {
     "name": "stdout",
     "output_type": "stream",
     "text": [
      "A:\n",
      "[[9 1 7]\n",
      " [9 6 3]\n",
      " [5 6 1]]\n",
      "\n",
      "|A| = 66.0\n",
      "|A| * k = 198.0\n",
      "\n",
      "B:\n",
      "[[ 9  1  7]\n",
      " [ 9  6  3]\n",
      " [15 18  3]]\n",
      "\n",
      "|B| = 198.0\n",
      "\n"
     ]
    }
   ],
   "source": [
    "A = np.matrix('9 1 7; 9 6 3; 5 6 1')\n",
    "\n",
    "k = 3\n",
    "\n",
    "print(f\"A:\\n{A}\\n\")\n",
    "det_A = round(np.linalg.det(A), 3)\n",
    "print(f\"|A| = {det_A}\")\n",
    "print(f\"|A| * k = {det_A * k}\\n\")\n",
    "\n",
    "B = A.copy()\n",
    "B[2, :] = k * B[2, :]\n",
    "print(f\"B:\\n{B}\\n\")\n",
    "\n",
    "det_B = round(np.linalg.det(B), 3)\n",
    "print(f\"|B| = {det_B}\\n\")\n"
   ]
  },
  {
   "cell_type": "markdown",
   "id": "9e2f1816",
   "metadata": {},
   "source": [
    "Свойство 6. Если все элементы строки или столбца можно представить как сумму двух\n",
    "слагаемых, то определитель такой матрицы равен сумме определителей двух соответствующих\n",
    "матриц:"
   ]
  },
  {
   "cell_type": "code",
   "execution_count": 71,
   "id": "1d97312f",
   "metadata": {},
   "outputs": [
    {
     "name": "stdout",
     "output_type": "stream",
     "text": [
      "C\n",
      "[[-4 -1  2]\n",
      " [ 4  2  4]\n",
      " [ 8  3  1]]\n",
      "A\n",
      "[[-4 -1  2]\n",
      " [-4 -1  2]\n",
      " [ 8  3  1]]\n",
      "B\n",
      "[[-4 -1  2]\n",
      " [ 8  3  2]\n",
      " [ 8  3  1]]\n",
      "|C|\n",
      "4.0\n",
      "|A| + |B|\n",
      "4.0\n"
     ]
    }
   ],
   "source": [
    "A = np.matrix('-4 -1 2; -4 -1 2; 8 3 1')\n",
    "B = np.matrix('-4 -1 2; 8 3 2; 8 3 1')\n",
    "C = A.copy()\n",
    "C[1, :] += B[1, :]\n",
    "print(\"C\")\n",
    "print(C)\n",
    "print(\"A\")\n",
    "print(A)\n",
    "print(\"B\")\n",
    "print(B)\n",
    "print(\"|C|\")\n",
    "print(round(np.linalg.det(C), 3))\n",
    "print(\"|A| + |B|\")\n",
    "print(round(np.linalg.det(A), 3) + round(np.linalg.det(B), 3))"
   ]
  },
  {
   "cell_type": "markdown",
   "id": "48361691",
   "metadata": {},
   "source": [
    "Свойство 7. Если к элементам одной строки прибавить элементы другой строки, умноженные на\n",
    "одно и тоже число, то определитель матрицы не изменится:\n"
   ]
  },
  {
   "cell_type": "code",
   "execution_count": 74,
   "id": "7a624da7",
   "metadata": {},
   "outputs": [
    {
     "name": "stdout",
     "output_type": "stream",
     "text": [
      "A\n",
      "[[9 1 7]\n",
      " [9 6 3]\n",
      " [5 6 1]]\n",
      "B\n",
      "[[ 9  1  7]\n",
      " [36  9 24]\n",
      " [ 5  6  1]]\n",
      "\n",
      "|A|\n",
      "66.0\n",
      "|B|\n",
      "66.0\n"
     ]
    }
   ],
   "source": [
    "A = np.matrix('9 1 7; 9 6 3; 5 6 1')\n",
    "k = 3\n",
    "\n",
    "B = A.copy()\n",
    "B[1, :] = B[1, :] + k * B[0, :]\n",
    "\n",
    "print(\"A\")\n",
    "print(A)\n",
    "print(\"B\")\n",
    "print(B)\n",
    "\n",
    "print(\"\\n|A|\")\n",
    "print(round(np.linalg.det(A), 3))\n",
    "print(\"|B|\")\n",
    "print(round(np.linalg.det(B), 3))"
   ]
  },
  {
   "cell_type": "markdown",
   "id": "9072ad9f",
   "metadata": {},
   "source": [
    "Свойство 8. Если строка или столбец матрицы является линейной комбинацией других строк\n",
    "(столбцов), то определитель такой матрицы равен нулю"
   ]
  },
  {
   "cell_type": "code",
   "execution_count": 75,
   "id": "b6c1c584",
   "metadata": {},
   "outputs": [
    {
     "name": "stdout",
     "output_type": "stream",
     "text": [
      "A\n",
      "[[9 1 7]\n",
      " [9 6 3]\n",
      " [5 6 1]]\n",
      "\n",
      "|A|\n",
      "0.0\n"
     ]
    }
   ],
   "source": [
    "A = np.matrix('9 1 7; 9 6 3; 5 6 1')\n",
    "print(\"A\")\n",
    "print(A)\n",
    "k = 2\n",
    "A[1, :] = A[0, :] + k * A[2, :]\n",
    "print(\"\\n|A|\")\n",
    "print(round(np.linalg.det(A), 3))"
   ]
  },
  {
   "cell_type": "markdown",
   "id": "e34ffff3",
   "metadata": {},
   "source": [
    "Свойство 9. Если матрица содержит пропорциональные строки, то ее определитель равен нулю:"
   ]
  },
  {
   "cell_type": "code",
   "execution_count": 78,
   "id": "50f956b7",
   "metadata": {},
   "outputs": [
    {
     "name": "stdout",
     "output_type": "stream",
     "text": [
      "A\n",
      "[[9 1 7]\n",
      " [9 6 3]\n",
      " [5 6 1]]\n",
      "66.0\n",
      "\n",
      "new A\n",
      "[[ 9  1  7]\n",
      " [36  4 28]\n",
      " [ 5  6  1]]\n",
      "0.0\n"
     ]
    }
   ],
   "source": [
    "A = np.matrix('9 1 7; 9 6 3; 5 6 1')\n",
    "print(\"A\")\n",
    "print(A)\n",
    "print(round(np.linalg.det(A), 3))\n",
    "\n",
    "k = 4\n",
    "A[1, :] = k * A[0, :]\n",
    "print(\"\\nnew A\")\n",
    "print(A)\n",
    "print(round(np.linalg.det(A), 3))"
   ]
  },
  {
   "cell_type": "markdown",
   "id": "8ea8aba6",
   "metadata": {},
   "source": [
    "Обратная матрица"
   ]
  },
  {
   "cell_type": "markdown",
   "id": "811dc4fe",
   "metadata": {},
   "source": [
    "Свойство 1. Обратная матрица обратной матрицы есть исходная матрица:"
   ]
  },
  {
   "cell_type": "code",
   "execution_count": 80,
   "id": "81448638",
   "metadata": {},
   "outputs": [
    {
     "name": "stdout",
     "output_type": "stream",
     "text": [
      "A\n",
      "[[4 6]\n",
      " [7 1]]\n",
      "A_inv\n",
      "[[-0.02631579  0.15789474]\n",
      " [ 0.18421053 -0.10526316]]\n",
      "A_inv_inv\n",
      "[[4. 6.]\n",
      " [7. 1.]]\n"
     ]
    }
   ],
   "source": [
    "A = np.matrix('4 6; 7 1')\n",
    "print(\"A\")\n",
    "print(A)\n",
    "A_inv = np.linalg.inv(A)\n",
    "print(\"A_inv\")\n",
    "print(A_inv)\n",
    "A_inv_inv = np.linalg.inv(A_inv)\n",
    "print(\"A_inv_inv\")\n",
    "print(A_inv_inv)"
   ]
  },
  {
   "cell_type": "markdown",
   "id": "44ef106a",
   "metadata": {},
   "source": [
    "Свойство 2. Обратная матрица транспонированной матрицы равна транспонированной матрице\n",
    "от обратной матрицы:"
   ]
  },
  {
   "cell_type": "code",
   "execution_count": 81,
   "id": "b12fa75b",
   "metadata": {},
   "outputs": [
    {
     "name": "stdout",
     "output_type": "stream",
     "text": [
      "Обратная матрица транспонированной матрицы:\n",
      "[[-0.02631579  0.18421053]\n",
      " [ 0.15789474 -0.10526316]]\n",
      "Транспонированная матрица от обратной матрицы:\n",
      "[[-0.02631579  0.18421053]\n",
      " [ 0.15789474 -0.10526316]]\n"
     ]
    }
   ],
   "source": [
    "A = np.matrix('4 6; 7 1')\n",
    "\n",
    "print(\"Обратная матрица транспонированной матрицы:\")\n",
    "L = np.linalg.inv(A.T)\n",
    "print(L)\n",
    "\n",
    "print(\"Транспонированная матрица от обратной матрицы:\")\n",
    "R = (np.linalg.inv(A)).T\n",
    "print(R)"
   ]
  },
  {
   "cell_type": "markdown",
   "id": "b834a9e4",
   "metadata": {},
   "source": [
    "Свойство 3. Обратная матрица произведения матриц равна произведению обратных матриц:"
   ]
  },
  {
   "cell_type": "code",
   "execution_count": 82,
   "id": "60499d18",
   "metadata": {},
   "outputs": [
    {
     "name": "stdout",
     "output_type": "stream",
     "text": [
      "Обратная матрица произведения матриц:\n",
      "[[ 0.02443609 -0.01804511]\n",
      " [-0.0056391   0.01954887]]\n",
      "Произведение обратных матриц:\n",
      "[[ 0.02443609 -0.01804511]\n",
      " [-0.0056391   0.01954887]]\n"
     ]
    }
   ],
   "source": [
    "A = np.matrix('4 6; 7 1')\n",
    "B = np.matrix('1 9; 8 2')\n",
    "\n",
    "print(\"Обратная матрица произведения матриц:\")\n",
    "L = np.linalg.inv(A.dot(B))\n",
    "print(L)\n",
    "\n",
    "print(\"Произведение обратных матриц:\")\n",
    "R = np.linalg.inv(B).dot(np.linalg.inv(A))\n",
    "print(R)\n"
   ]
  }
 ],
 "metadata": {
  "kernelspec": {
   "display_name": "Python 3 (ipykernel)",
   "language": "python",
   "name": "python3"
  },
  "language_info": {
   "codemirror_mode": {
    "name": "ipython",
    "version": 3
   },
   "file_extension": ".py",
   "mimetype": "text/x-python",
   "name": "python",
   "nbconvert_exporter": "python",
   "pygments_lexer": "ipython3",
   "version": "3.9.12"
  }
 },
 "nbformat": 4,
 "nbformat_minor": 5
}
